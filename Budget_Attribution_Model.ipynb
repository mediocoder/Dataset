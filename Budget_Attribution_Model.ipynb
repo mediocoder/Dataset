{
  "nbformat": 4,
  "nbformat_minor": 0,
  "metadata": {
    "anaconda-cloud": {},
    "kernelspec": {
      "display_name": "Python 3",
      "language": "python",
      "name": "python3"
    },
    "language_info": {
      "codemirror_mode": {
        "name": "ipython",
        "version": 3
      },
      "file_extension": ".py",
      "mimetype": "text/x-python",
      "name": "python",
      "nbconvert_exporter": "python",
      "pygments_lexer": "ipython3",
      "version": "3.5.3"
    },
    "colab": {
      "name": "Budget_Attribution_Model.ipynb",
      "provenance": [],
      "collapsed_sections": [],
      "machine_shape": "hm",
      "include_colab_link": true
    }
  },
  "cells": [
    {
      "cell_type": "markdown",
      "metadata": {
        "id": "view-in-github",
        "colab_type": "text"
      },
      "source": [
        "<a href=\"https://colab.research.google.com/github/rakesh-choudhury/Dataset/blob/master/Budget_Attribution_Model.ipynb\" target=\"_parent\"><img src=\"https://colab.research.google.com/assets/colab-badge.svg\" alt=\"Open In Colab\"/></a>"
      ]
    },
    {
      "cell_type": "markdown",
      "metadata": {
        "id": "qOINFU-pZnha",
        "colab_type": "text"
      },
      "source": [
        "# Attribution Modeling Increases Efficiency of Bidding in Display Advertising\n",
        "Eustache Diemert&ast;, Julien Meynet&ast; (Criteo Research), Damien Lefortier (Facebook), Pierre Galland (Criteo)\n",
        "&ast;authors contributed equally.\n",
        "\n",
        "This work was published in:\n",
        "[2017 AdKDD & TargetAd Workshop, in conjunction with\n",
        "The 23rd ACM SIGKDD Conference on Knowledge Discovery and Data Mining (KDD 2017)](https://adkdd17.wixsite.com/adkddtargetad2017)"
      ]
    },
    {
      "cell_type": "markdown",
      "metadata": {
        "id": "szxMk-TPZnhf",
        "colab_type": "text"
      },
      "source": [
        "  * This code includes all needed material to reproduce results reported in the paper. This dataset can also be used for further research like: testing alternative attribution models, offline metrics, etc..\n",
        "  * For details about the content of the Dataset, refer to the README file"
      ]
    },
    {
      "cell_type": "markdown",
      "metadata": {
        "id": "zVMFePzMY6gK",
        "colab_type": "text"
      },
      "source": [
        "\n",
        "# Dataset Description\n",
        "###Timestamp: \n",
        "timestamp of the impression (starting from 0 for the first impression). The dataset is sorted according to timestamp.\n",
        "uid a unique user identifier\n",
        "###Campaign:\n",
        "a unique identifier for the campaign\n",
        "### Conversion:\n",
        "1 if there was a conversion in the 30 days after the impression (independently of whether this impression was last click or not)\n",
        "###Conversion_Timestamp:\n",
        "the timestamp of the conversion or -1 if no conversion was observed\n",
        "###Conversion_id:\n",
        "a unique identifier for each conversion (so that timelines can be reconstructed if needed). -1 if there was no conversion\n",
        "###Attribution 1: \n",
        "if the conversion was attributed to Criteo, 0 otherwise\n",
        "###Click 1:\n",
        "if the impression was clicked, 0 otherwise\n",
        "###Click_pos: \n",
        "the position of the click before a conversion (0 for first-click)\n",
        "###Click_nb:\n",
        "number of clicks. More than 1 if there was several clicks before a conversion\n",
        "###Cost:\n",
        "the price paid by Criteo for this display (disclaimer: not the real price, only a transformed version of it)\n",
        "###CPO(Cost per order):\n",
        "the cost-per-order in case of attributed conversion (disclaimer: not the real price, only a transformed version of it)\n",
        "###Time_Since_Last_Click: \n",
        "the time since the last click (in s) for the given impression\n",
        "###Cat[1-9]: \n",
        "contextual features associated to the display. Can be used to learn the click/conversion models. We do not disclose the meaning of these features but it is not relevant for this study. Each column is a categorical variable. In the experiments, they are mapped to a fixed dimensionality space using the Hashing Trick (see paper for reference)."
      ]
    },
    {
      "cell_type": "markdown",
      "metadata": {
        "id": "CczbR4OlZnhi",
        "colab_type": "text"
      },
      "source": [
        "# Preprocessing"
      ]
    },
    {
      "cell_type": "code",
      "metadata": {
        "id": "R-Y0ixd9sDqr",
        "colab_type": "code",
        "outputId": "a98e0e9c-610f-460d-916b-514ffca6cfe6",
        "colab": {
          "base_uri": "https://localhost:8080/",
          "height": 360
        }
      },
      "source": [
        "import pandas as pd\n",
        "import matplotlib.pyplot as plt \n",
        "import numpy as np\n",
        "\n",
        "from sklearn.utils import resample\n",
        "from sklearn.preprocessing import MinMaxScaler\n",
        "from sklearn.model_selection import train_test_split\n",
        "\n",
        "import keras\n",
        "\n",
        "plt.style.use('ggplot')"
      ],
      "execution_count": 0,
      "outputs": [
        {
          "output_type": "stream",
          "text": [
            "Using TensorFlow backend.\n"
          ],
          "name": "stderr"
        },
        {
          "output_type": "display_data",
          "data": {
            "text/html": [
              "<p style=\"color: red;\">\n",
              "The default version of TensorFlow in Colab will soon switch to TensorFlow 2.x.<br>\n",
              "We recommend you <a href=\"https://www.tensorflow.org/guide/migrate\" target=\"_blank\">upgrade</a> now \n",
              "or ensure your notebook will continue to use TensorFlow 1.x via the <code>%tensorflow_version 1.x</code> magic:\n",
              "<a href=\"https://colab.research.google.com/notebooks/tensorflow_version.ipynb\" target=\"_blank\">more info</a>.</p>\n"
            ],
            "text/plain": [
              "<IPython.core.display.HTML object>"
            ]
          },
          "metadata": {
            "tags": []
          }
        }
      ]
    },
    {
      "cell_type": "code",
      "metadata": {
        "id": "tyDpWo7yZnhk",
        "colab_type": "code",
        "outputId": "e96243d3-ab9e-4e87-c322-a4a6a4bb7785",
        "colab": {
          "base_uri": "https://localhost:8080/",
          "height": 314
        }
      },
      "source": [
        "%pylab inline\n",
        "import pandas as pd\n",
        "plt.style.use('ggplot')\n",
        "from scipy.optimize import minimize\n",
        "import numpy as np\n",
        "# /content/drive/My Drive/Dataset/criteo_attribution_dataset.tsv.gz"
      ],
      "execution_count": 0,
      "outputs": [
        {
          "output_type": "stream",
          "text": [
            "Populating the interactive namespace from numpy and matplotlib\n"
          ],
          "name": "stdout"
        }
      ]
    },
    {
      "cell_type": "code",
      "metadata": {
        "id": "N-APnkka8FlP",
        "colab_type": "code",
        "outputId": "7e9f451e-bfcf-447e-8594-377c0449e255",
        "colab": {
          "base_uri": "https://localhost:8080/",
          "height": 507
        }
      },
      "source": [
        "from google.colab import drive\n",
        "drive.mount('/content/drive')"
      ],
      "execution_count": 0,
      "outputs": [
        {
          "output_type": "stream",
          "text": [
            "Go to this URL in a browser: https://accounts.google.com/o/oauth2/auth?client_id=947318989803-6bn6qk8qdgf4n4g3pfee6491hc0brc4i.apps.googleusercontent.com&redirect_uri=urn%3aietf%3awg%3aoauth%3a2.0%3aoob&response_type=code&scope=email%20https%3a%2f%2fwww.googleapis.com%2fauth%2fdocs.test%20https%3a%2f%2fwww.googleapis.com%2fauth%2fdrive%20https%3a%2f%2fwww.googleapis.com%2fauth%2fdrive.photos.readonly%20https%3a%2f%2fwww.googleapis.com%2fauth%2fpeopleapi.readonly\n",
            "\n",
            "Enter your authorization code:\n",
            "··········\n",
            "Mounted at /content/drive\n"
          ],
          "name": "stdout"
        }
      ]
    },
    {
      "cell_type": "code",
      "metadata": {
        "id": "NlLLGslDZnhq",
        "colab_type": "code",
        "colab": {}
      },
      "source": [
        "DATA_FILE=\"/content/drive/My Drive/INFO 7374 Assignment 3 part 2/criteo_attribution_dataset.tsv.gz\"\n",
        "df = pd.read_csv(DATA_FILE, sep='\\t', compression='gzip')\n",
        "\n"
      ],
      "execution_count": 0,
      "outputs": []
    },
    {
      "cell_type": "code",
      "metadata": {
        "id": "TpzW7WPEsDka",
        "colab_type": "code",
        "outputId": "72db97e2-1a01-4ad7-923f-e858a8bb7f25",
        "colab": {
          "base_uri": "https://localhost:8080/",
          "height": 280
        }
      },
      "source": [
        "# Initial data preparation\n",
        "\n",
        "def add_derived_columns(df):\n",
        "    df_ext = df.copy()\n",
        "    df_ext['jid'] = df_ext['uid'].map(str) + '_' + df_ext['conversion_id'].map(str)\n",
        "    min_max_scaler = MinMaxScaler()\n",
        "    for cname in ('timestamp', 'time_since_last_click'):\n",
        "        x = df_ext[cname].values.reshape(-1, 1) \n",
        "        df_ext[cname + '_norm'] = min_max_scaler.fit_transform(x)\n",
        "    \n",
        "    return df_ext\n",
        "\n",
        "def filter_journeys_by_length(df, min_touchpoints):\n",
        "    if min_touchpoints <= 1:\n",
        "        return df\n",
        "    else:\n",
        "        grouped = df.groupby(['jid'])['uid'].count().reset_index(name=\"count\")\n",
        "        return df[df['jid'].isin( grouped[grouped['count'] >= min_touchpoints]['jid'].values )]\n",
        "\n",
        "def sample_campaigns(df, n_campaigns):    \n",
        "    campaigns = np.random.choice( df['campaign'].unique(), n_campaigns, replace = False )\n",
        "    return df[ df['campaign'].isin(campaigns) ]\n",
        "\n",
        "def balance_conversions(df):\n",
        "    df_minority = df[df.conversion == 1]\n",
        "    df_majority = df[df.conversion == 0]\n",
        "    \n",
        "    df_majority_jids = np.array_split(df_majority['jid'].unique(), 100 * df_majority.shape[0]/df_minority.shape[0] )\n",
        "    \n",
        "    df_majority_sampled = pd.DataFrame(data=None, columns=df.columns)\n",
        "    for jid_chunk in df_majority_jids:\n",
        "        df_majority_sampled = pd.concat([df_majority_sampled, df_majority[df_majority.jid.isin(jid_chunk)]])\n",
        "        if df_majority_sampled.shape[0] > df_minority.shape[0]:\n",
        "            break\n",
        "    \n",
        "    return pd.concat([df_majority_sampled, df_minority]).sample(frac=1).reset_index(drop=True)\n",
        "\n",
        "def map_one_hot(df, column_names, result_column_name):\n",
        "    mapper = {} \n",
        "    for i, col_name in enumerate(column_names):\n",
        "        for val in df[col_name].unique():\n",
        "            mapper[str(val) + str(i)] = len(mapper)\n",
        "         \n",
        "    df_ext = df.copy()\n",
        "    \n",
        "    def one_hot(values):\n",
        "        v = np.zeros( len(mapper) )\n",
        "        for i, val in enumerate(values): \n",
        "            v[ mapper[str(val) + str(i)] ] = 1\n",
        "        return v    \n",
        "    \n",
        "    df_ext[result_column_name] = df_ext[column_names].values.tolist()\n",
        "    df_ext[result_column_name] = df_ext[result_column_name].map(one_hot)\n",
        "    \n",
        "    return df_ext\n",
        "    \n",
        "data_file=\"/content/drive/My Drive/Attribution Model Assignment/criteo.csv\"\n",
        "#df = pd.read_csv(DATA_FILE, sep='')\n",
        "\n",
        "df = pd.read_csv(data_file, sep=',')\n",
        "\n",
        "n_campaigns = 500\n",
        "\n",
        "df1 = add_derived_columns(df)\n",
        "df2 = sample_campaigns(df1, n_campaigns)\n",
        "df3 = filter_journeys_by_length(df2, 2)\n",
        "df4 = balance_conversions(df3)\n",
        "df5 = map_one_hot(df4, ['cat1', 'cat2', 'cat3', 'cat4', 'cat5', 'cat6', 'cat8'], 'cats')\n",
        "df6 = map_one_hot(df5, ['campaign'], 'campaigns').sort_values(by=['timestamp_norm'])\n",
        "\n",
        "print(df6.shape[0])\n",
        "print([df6[df6.conversion == 0].shape[0], df6[df6.conversion == 1].shape[0]])"
      ],
      "execution_count": 0,
      "outputs": [
        {
          "output_type": "stream",
          "text": [
            "789137\n",
            "[395895, 393242]\n"
          ],
          "name": "stdout"
        }
      ]
    },
    {
      "cell_type": "code",
      "metadata": {
        "id": "8KzTWuORN9Ir",
        "colab_type": "code",
        "outputId": "a261b1a5-de58-44fd-e4ca-de1fb3c37759",
        "colab": {
          "base_uri": "https://localhost:8080/",
          "height": 1000
        }
      },
      "source": [
        "df6.head()"
      ],
      "execution_count": 0,
      "outputs": [
        {
          "output_type": "execute_result",
          "data": {
            "text/html": [
              "<div>\n",
              "<style scoped>\n",
              "    .dataframe tbody tr th:only-of-type {\n",
              "        vertical-align: middle;\n",
              "    }\n",
              "\n",
              "    .dataframe tbody tr th {\n",
              "        vertical-align: top;\n",
              "    }\n",
              "\n",
              "    .dataframe thead th {\n",
              "        text-align: right;\n",
              "    }\n",
              "</style>\n",
              "<table border=\"1\" class=\"dataframe\">\n",
              "  <thead>\n",
              "    <tr style=\"text-align: right;\">\n",
              "      <th></th>\n",
              "      <th>timestamp</th>\n",
              "      <th>uid</th>\n",
              "      <th>campaign</th>\n",
              "      <th>conversion</th>\n",
              "      <th>conversion_timestamp</th>\n",
              "      <th>conversion_id</th>\n",
              "      <th>attribution</th>\n",
              "      <th>click</th>\n",
              "      <th>click_pos</th>\n",
              "      <th>click_nb</th>\n",
              "      <th>cost</th>\n",
              "      <th>cpo</th>\n",
              "      <th>time_since_last_click</th>\n",
              "      <th>cat1</th>\n",
              "      <th>cat2</th>\n",
              "      <th>cat3</th>\n",
              "      <th>cat4</th>\n",
              "      <th>cat5</th>\n",
              "      <th>cat6</th>\n",
              "      <th>cat7</th>\n",
              "      <th>cat8</th>\n",
              "      <th>cat9</th>\n",
              "      <th>jid</th>\n",
              "      <th>timestamp_norm</th>\n",
              "      <th>time_since_last_click_norm</th>\n",
              "      <th>cats</th>\n",
              "      <th>campaigns</th>\n",
              "    </tr>\n",
              "  </thead>\n",
              "  <tbody>\n",
              "    <tr>\n",
              "      <th>720190</th>\n",
              "      <td>2</td>\n",
              "      <td>24607497</td>\n",
              "      <td>884761</td>\n",
              "      <td>0</td>\n",
              "      <td>-1</td>\n",
              "      <td>-1</td>\n",
              "      <td>0</td>\n",
              "      <td>0</td>\n",
              "      <td>-1</td>\n",
              "      <td>-1</td>\n",
              "      <td>0.000010</td>\n",
              "      <td>0.059600</td>\n",
              "      <td>423858</td>\n",
              "      <td>30763035</td>\n",
              "      <td>9312274</td>\n",
              "      <td>14584482</td>\n",
              "      <td>29196072</td>\n",
              "      <td>11409686</td>\n",
              "      <td>1973606</td>\n",
              "      <td>22644417</td>\n",
              "      <td>9312274</td>\n",
              "      <td>21091111</td>\n",
              "      <td>24607497_-1</td>\n",
              "      <td>0.000000e+00</td>\n",
              "      <td>0.163526</td>\n",
              "      <td>[0.0, 0.0, 1.0, 0.0, 0.0, 0.0, 0.0, 0.0, 0.0, ...</td>\n",
              "      <td>[0.0, 0.0, 0.0, 0.0, 0.0, 0.0, 0.0, 0.0, 0.0, ...</td>\n",
              "    </tr>\n",
              "    <tr>\n",
              "      <th>264196</th>\n",
              "      <td>3</td>\n",
              "      <td>25357769</td>\n",
              "      <td>13365547</td>\n",
              "      <td>0</td>\n",
              "      <td>-1</td>\n",
              "      <td>-1</td>\n",
              "      <td>0</td>\n",
              "      <td>0</td>\n",
              "      <td>-1</td>\n",
              "      <td>-1</td>\n",
              "      <td>0.000032</td>\n",
              "      <td>0.037583</td>\n",
              "      <td>-1</td>\n",
              "      <td>138937</td>\n",
              "      <td>26597094</td>\n",
              "      <td>31616034</td>\n",
              "      <td>29196072</td>\n",
              "      <td>11409684</td>\n",
              "      <td>26597096</td>\n",
              "      <td>4480345</td>\n",
              "      <td>29196072</td>\n",
              "      <td>29196072</td>\n",
              "      <td>25357769_-1</td>\n",
              "      <td>3.743669e-07</td>\n",
              "      <td>0.000000</td>\n",
              "      <td>[0.0, 0.0, 0.0, 0.0, 0.0, 1.0, 0.0, 0.0, 0.0, ...</td>\n",
              "      <td>[0.0, 0.0, 0.0, 0.0, 0.0, 0.0, 1.0, 0.0, 0.0, ...</td>\n",
              "    </tr>\n",
              "    <tr>\n",
              "      <th>548434</th>\n",
              "      <td>4</td>\n",
              "      <td>28451570</td>\n",
              "      <td>20843295</td>\n",
              "      <td>0</td>\n",
              "      <td>-1</td>\n",
              "      <td>-1</td>\n",
              "      <td>0</td>\n",
              "      <td>0</td>\n",
              "      <td>-1</td>\n",
              "      <td>-1</td>\n",
              "      <td>0.000035</td>\n",
              "      <td>0.336611</td>\n",
              "      <td>-1</td>\n",
              "      <td>138937</td>\n",
              "      <td>9312274</td>\n",
              "      <td>15403272</td>\n",
              "      <td>29196072</td>\n",
              "      <td>32440042</td>\n",
              "      <td>28928366</td>\n",
              "      <td>8556462</td>\n",
              "      <td>29196072</td>\n",
              "      <td>29196072</td>\n",
              "      <td>28451570_-1</td>\n",
              "      <td>7.487339e-07</td>\n",
              "      <td>0.000000</td>\n",
              "      <td>[0.0, 0.0, 0.0, 0.0, 0.0, 1.0, 0.0, 0.0, 0.0, ...</td>\n",
              "      <td>[0.0, 0.0, 0.0, 0.0, 0.0, 0.0, 0.0, 0.0, 0.0, ...</td>\n",
              "    </tr>\n",
              "    <tr>\n",
              "      <th>725600</th>\n",
              "      <td>4</td>\n",
              "      <td>19923387</td>\n",
              "      <td>31772643</td>\n",
              "      <td>0</td>\n",
              "      <td>-1</td>\n",
              "      <td>-1</td>\n",
              "      <td>0</td>\n",
              "      <td>0</td>\n",
              "      <td>-1</td>\n",
              "      <td>-1</td>\n",
              "      <td>0.000035</td>\n",
              "      <td>0.087070</td>\n",
              "      <td>179666</td>\n",
              "      <td>30763035</td>\n",
              "      <td>9312274</td>\n",
              "      <td>5028397</td>\n",
              "      <td>29196072</td>\n",
              "      <td>32440044</td>\n",
              "      <td>32440041</td>\n",
              "      <td>14074087</td>\n",
              "      <td>29196072</td>\n",
              "      <td>21091108</td>\n",
              "      <td>19923387_-1</td>\n",
              "      <td>7.487339e-07</td>\n",
              "      <td>0.069316</td>\n",
              "      <td>[0.0, 0.0, 1.0, 0.0, 0.0, 0.0, 0.0, 0.0, 0.0, ...</td>\n",
              "      <td>[0.0, 0.0, 0.0, 0.0, 0.0, 0.0, 0.0, 0.0, 0.0, ...</td>\n",
              "    </tr>\n",
              "    <tr>\n",
              "      <th>423810</th>\n",
              "      <td>7</td>\n",
              "      <td>5588915</td>\n",
              "      <td>27491436</td>\n",
              "      <td>0</td>\n",
              "      <td>-1</td>\n",
              "      <td>-1</td>\n",
              "      <td>0</td>\n",
              "      <td>0</td>\n",
              "      <td>-1</td>\n",
              "      <td>-1</td>\n",
              "      <td>0.000074</td>\n",
              "      <td>0.216361</td>\n",
              "      <td>-1</td>\n",
              "      <td>138937</td>\n",
              "      <td>9312274</td>\n",
              "      <td>4281154</td>\n",
              "      <td>29196072</td>\n",
              "      <td>28928366</td>\n",
              "      <td>29196072</td>\n",
              "      <td>21857352</td>\n",
              "      <td>29196072</td>\n",
              "      <td>29196072</td>\n",
              "      <td>5588915_-1</td>\n",
              "      <td>1.871835e-06</td>\n",
              "      <td>0.000000</td>\n",
              "      <td>[0.0, 0.0, 0.0, 0.0, 0.0, 1.0, 0.0, 0.0, 0.0, ...</td>\n",
              "      <td>[0.0, 0.0, 0.0, 0.0, 0.0, 0.0, 0.0, 0.0, 0.0, ...</td>\n",
              "    </tr>\n",
              "  </tbody>\n",
              "</table>\n",
              "</div>"
            ],
            "text/plain": [
              "       timestamp  ...                                          campaigns\n",
              "720190         2  ...  [0.0, 0.0, 0.0, 0.0, 0.0, 0.0, 0.0, 0.0, 0.0, ...\n",
              "264196         3  ...  [0.0, 0.0, 0.0, 0.0, 0.0, 0.0, 1.0, 0.0, 0.0, ...\n",
              "548434         4  ...  [0.0, 0.0, 0.0, 0.0, 0.0, 0.0, 0.0, 0.0, 0.0, ...\n",
              "725600         4  ...  [0.0, 0.0, 0.0, 0.0, 0.0, 0.0, 0.0, 0.0, 0.0, ...\n",
              "423810         7  ...  [0.0, 0.0, 0.0, 0.0, 0.0, 0.0, 0.0, 0.0, 0.0, ...\n",
              "\n",
              "[5 rows x 27 columns]"
            ]
          },
          "metadata": {
            "tags": []
          },
          "execution_count": 5
        }
      ]
    },
    {
      "cell_type": "code",
      "metadata": {
        "id": "V0TCKXdhfnBk",
        "colab_type": "code",
        "outputId": "721c8ccb-b4ce-4d1f-b6cc-fb0eccb818d5",
        "colab": {
          "base_uri": "https://localhost:8080/",
          "height": 282
        }
      },
      "source": [
        "# Data exploration\n",
        "\n",
        "def journey_lenght_histogram(df):\n",
        "    counts = df.groupby(['jid'])['uid'].count().reset_index(name=\"count\").groupby(['count']).count()\n",
        "    return counts.index, counts.values / df.shape[0]\n",
        "\n",
        "hist_x, hist_y = journey_lenght_histogram(df4)\n",
        "\n",
        "#plt.plot(range(len(hist_x)), hist_x, label='index journeys')\n",
        "plt.plot(range(len(hist_y)), hist_y, label='touch journeys')\n",
        "plt.yscale('log')\n",
        "plt.xlim(0, 120)\n",
        "plt.xlabel('Journey length (number of touchpoints)')\n",
        "plt.ylabel('Fraction of journeys')\n",
        "plt.show()"
      ],
      "execution_count": 0,
      "outputs": [
        {
          "output_type": "display_data",
          "data": {
            "image/png": "[encoded data removed]",
            "text/plain": [
              "<Figure size 432x288 with 1 Axes>"
            ]
          },
          "metadata": {
            "tags": []
          }
        }
      ]
    },
    {
      "cell_type": "markdown",
      "metadata": {
        "id": "LXRTk0oIj2h_",
        "colab_type": "text"
      },
      "source": [
        "# Last Touch Attribution"
      ]
    },
    {
      "cell_type": "code",
      "metadata": {
        "id": "bbvefojniElz",
        "colab_type": "code",
        "colab": {}
      },
      "source": [
        "def last_touch_attribution(df):\n",
        "    \n",
        "    def count_by_campaign(df):\n",
        "        counters = np.zeros(n_campaigns)\n",
        "        for campaign_one_hot in df['campaigns'].values:\n",
        "            campaign_id = np.argmax(campaign_one_hot)\n",
        "            counters[campaign_id] = counters[campaign_id] + 1\n",
        "        return counters\n",
        "        \n",
        "    campaign_impressions = count_by_campaign(df)\n",
        "    \n",
        "    df_converted = df[df['conversion'] == 1]\n",
        "    idx = df_converted.groupby(['jid'])['timestamp_norm'].transform(max) == df_converted['timestamp_norm']\n",
        "    campaign_conversions = count_by_campaign(df_converted[idx])\n",
        "        \n",
        "    return campaign_conversions / campaign_impressions\n",
        "    \n",
        "lta = last_touch_attribution(df6)\n",
        "roi_lta = ((lta[1:50] - (df6.cost.values[1:50]+ df6.cpo.values[1:50]))/(df6.cost.values[1:50]+ df6.cpo.values[1:50]))*100 "
      ],
      "execution_count": 0,
      "outputs": []
    },
    {
      "cell_type": "code",
      "metadata": {
        "id": "GSenTw6jWfIr",
        "colab_type": "code",
        "outputId": "e86d37b0-620b-4e72-e62b-091ccfc0fbbe",
        "colab": {
          "base_uri": "https://localhost:8080/",
          "height": 462
        }
      },
      "source": [
        "# Visualization of the attribution scores\n",
        "\n",
        "campaign_idx = range(1, 50)\n",
        "\n",
        "fig = plt.figure(figsize=(20,7))\n",
        "ax = fig.add_subplot(111)\n",
        "plt.bar( range(len(lta[campaign_idx])), lta[campaign_idx], label='LTA' )\n",
        "plt.xlabel('Campaign ID')\n",
        "plt.ylabel('Return per impression')\n",
        "plt.legend(loc='upper left')\n",
        "plt.title('Last Touch Attribution')\n",
        "plt.show()"
      ],
      "execution_count": 0,
      "outputs": [
        {
          "output_type": "display_data",
          "data": {
            "image/png": "[encoded data removed]",
            "text/plain": [
              "<Figure size 1440x504 with 1 Axes>"
            ]
          },
          "metadata": {
            "tags": []
          }
        }
      ]
    },
    {
      "cell_type": "code",
      "metadata": {
        "id": "ZB_VS0KLnNPS",
        "colab_type": "code",
        "colab": {}
      },
      "source": [
        "# Visualization of the ROI\n",
        "\n",
        "campaign_idx = range(1, 50)\n",
        "\n",
        "fig = plt.figure(figsize=(20,7))\n",
        "ax = fig.add_subplot(111)\n",
        "plt.bar( range(len(lta[campaign_idx])), roi_lta, label='LTA' )\n",
        "plt.xlabel('Campaign ID')\n",
        "plt.ylabel('Return on Investment in %')\n",
        "plt.legend(loc='upper left')\n",
        "plt.title('Last Touch Attribution ROI')\n",
        "plt.show()"
      ],
      "execution_count": 0,
      "outputs": []
    },
    {
      "cell_type": "markdown",
      "metadata": {
        "id": "xJFKaSvMjfLL",
        "colab_type": "text"
      },
      "source": [
        "# First Touch Attribution"
      ]
    },
    {
      "cell_type": "code",
      "metadata": {
        "id": "nqgQuEQFcqol",
        "colab_type": "code",
        "colab": {}
      },
      "source": [
        "def first_touch_attribution(df):\n",
        "    \n",
        "    def count_by_campaign(df):\n",
        "        counters = np.zeros(n_campaigns)\n",
        "        for campaign_one_hot in df['campaigns'].values:\n",
        "            campaign_id = np.argmax(campaign_one_hot)\n",
        "            counters[campaign_id] = counters[campaign_id] + 1\n",
        "        return counters\n",
        "        \n",
        "    campaign_impressions = count_by_campaign(df)\n",
        "    \n",
        "    #df_converted = df[df['click_nb'].between(0,2, inclusive=True)]\n",
        "    df_converted_first_click = df[df['conversion']==1]\n",
        "    idx = df_converted_first_click.groupby(['jid'])['timestamp_norm'].transform(min) == df_converted_first_click['timestamp_norm']\n",
        "    campaign_conversions = count_by_campaign(df_converted_first_click[idx])\n",
        "        \n",
        "    return campaign_conversions / campaign_impressions\n",
        "#df_touchpoints = filter_journeys_by_length(df2, 10)\n",
        "fta = first_touch_attribution(df6)\n",
        "roi_fta = ((fta[1:50] - (df6.cost.values[1:50]+ df6.cpo.values[1:50]))/(df6.cost.values[1:50]+ df6.cpo.values[1:50]))*100 "
      ],
      "execution_count": 0,
      "outputs": []
    },
    {
      "cell_type": "code",
      "metadata": {
        "id": "eqJqE2lJn155",
        "colab_type": "code",
        "outputId": "eece7218-1d0e-4f67-dd8b-ce783f3e0aa8",
        "colab": {
          "base_uri": "https://localhost:8080/",
          "height": 462
        }
      },
      "source": [
        "# Visualization of the attribution scores\n",
        "\n",
        "campaign_idx = range(1, 50)\n",
        "\n",
        "fig = plt.figure(figsize=(20,7))\n",
        "ax = fig.add_subplot(111)\n",
        "plt.bar( range(len(fta[campaign_idx])), fta[campaign_idx], label='FTA' )\n",
        "plt.xlabel('Campaign ID')\n",
        "plt.ylabel('Return per impression')\n",
        "plt.legend(loc='upper left')\n",
        "plt.title('First Touch Attribution')\n",
        "plt.show()"
      ],
      "execution_count": 0,
      "outputs": [
        {
          "output_type": "display_data",
          "data": {
            "image/png": "[encoded data removed]",
            "text/plain": [
              "<Figure size 1440x504 with 1 Axes>"
            ]
          },
          "metadata": {
            "tags": []
          }
        }
      ]
    },
    {
      "cell_type": "code",
      "metadata": {
        "id": "NcGwVXCocw5-",
        "colab_type": "code",
        "outputId": "a3874fda-ba34-495a-9b52-dbce51c04233",
        "colab": {
          "base_uri": "https://localhost:8080/",
          "height": 462
        }
      },
      "source": [
        "# Visualization of the ROI\n",
        "\n",
        "campaign_idx = range(1, 50)\n",
        "\n",
        "fig = plt.figure(figsize=(20,7))\n",
        "ax = fig.add_subplot(111)\n",
        "plt.bar( range(len(fta[campaign_idx])), roi_fta, label='FTA' )\n",
        "plt.xlabel('Campaign ID')\n",
        "plt.ylabel('Return on Investment in %')\n",
        "plt.legend(loc='upper left')\n",
        "plt.title('First Touch Attribution ROI')\n",
        "plt.show()"
      ],
      "execution_count": 0,
      "outputs": [
        {
          "output_type": "display_data",
          "data": {
            "image/png": "[encoded data removed]",
            "text/plain": [
              "<Figure size 1440x504 with 1 Axes>"
            ]
          },
          "metadata": {
            "tags": []
          }
        }
      ]
    },
    {
      "cell_type": "markdown",
      "metadata": {
        "id": "clzU_8ikZhhS",
        "colab_type": "text"
      },
      "source": [
        "# Linear Attribution."
      ]
    },
    {
      "cell_type": "code",
      "metadata": {
        "id": "-x-GpkHIR3Mr",
        "colab_type": "code",
        "colab": {}
      },
      "source": [
        "def linear_attribution(df):\n",
        "    \n",
        "    def count_by_campaign(df):\n",
        "        counters = np.zeros(n_campaigns)\n",
        "        for campaign_one_hot in df['campaigns'].values:\n",
        "            campaign_id = np.argmax(campaign_one_hot)\n",
        "            counters[campaign_id] = counters[campaign_id] + 1\n",
        "        return counters\n",
        "            \n",
        "        \n",
        "    campaign_impressions = count_by_campaign(df)\n",
        "    \n",
        "    df_converted = df[df['conversion']==1]\n",
        "    #df[df['conversion']==1 & (df['click_nb']==2)]\n",
        "    #idx = df_converted.groupby(['jid'])['timestamp_norm'].transform(max) == df_converted['timestamp_norm']\n",
        "    idx = df_converted.groupby(['jid'])['timestamp_norm'].transform(sorted) == df_converted['timestamp_norm']\n",
        "    campaign_conversions = count_by_campaign(df_converted[idx])\n",
        "        \n",
        "    return campaign_conversions / campaign_impressions\n",
        "    \n",
        "la = linear_attribution(df6)\n",
        "roi_la = ((la[1:50] - (df6.cost.values[1:50]+ df6.cpo.values[1:50]))/(df6.cost.values[1:50]+ df6.cpo.values[1:50]))*100"
      ],
      "execution_count": 0,
      "outputs": []
    },
    {
      "cell_type": "code",
      "metadata": {
        "id": "XCN90SnriEkg",
        "colab_type": "code",
        "outputId": "26cb238d-62a9-4471-c20e-fbc7280461b1",
        "colab": {
          "base_uri": "https://localhost:8080/",
          "height": 462
        }
      },
      "source": [
        "# Visualization of the attribution scores\n",
        "\n",
        "campaign_idx = range(1, 50)\n",
        "\n",
        "fig = plt.figure(figsize=(20,7))\n",
        "ax = fig.add_subplot(111)\n",
        "plt.bar( range(len(la[campaign_idx])), la[campaign_idx], label='LA' )\n",
        "plt.xlabel('Campaign ID')\n",
        "plt.ylabel('Return per impression')\n",
        "plt.title('Linear Attribution')\n",
        "plt.legend(loc='upper left')\n",
        "plt.show()"
      ],
      "execution_count": 0,
      "outputs": [
        {
          "output_type": "display_data",
          "data": {
            "image/png": "[encoded data removed]",
            "text/plain": [
              "<Figure size 1440x504 with 1 Axes>"
            ]
          },
          "metadata": {
            "tags": []
          }
        }
      ]
    },
    {
      "cell_type": "code",
      "metadata": {
        "id": "LUgGEykgodRp",
        "colab_type": "code",
        "outputId": "8be17f08-1aca-4b5a-fa45-16cf2f4c2b74",
        "colab": {
          "base_uri": "https://localhost:8080/",
          "height": 462
        }
      },
      "source": [
        "# Visualization of the ROI\n",
        "\n",
        "campaign_idx = range(1, 50)\n",
        "\n",
        "fig = plt.figure(figsize=(20,7))\n",
        "ax = fig.add_subplot(111)\n",
        "plt.bar( range(len(la[campaign_idx])), roi_la, label='LA' )\n",
        "plt.xlabel('Campaign ID')\n",
        "plt.ylabel('Return on Investment in %')\n",
        "plt.title('Linear Attribution ROI')\n",
        "plt.legend(loc='upper left')\n",
        "plt.show()"
      ],
      "execution_count": 0,
      "outputs": [
        {
          "output_type": "display_data",
          "data": {
            "image/png": "[encoded data removed]",
            "text/plain": [
              "<Figure size 1440x504 with 1 Axes>"
            ]
          },
          "metadata": {
            "tags": []
          }
        }
      ]
    },
    {
      "cell_type": "markdown",
      "metadata": {
        "id": "wnvGnLCkj8-S",
        "colab_type": "text"
      },
      "source": [
        "# Time decay"
      ]
    },
    {
      "cell_type": "code",
      "metadata": {
        "id": "DRIE44h6kGZT",
        "colab_type": "code",
        "colab": {}
      },
      "source": [
        "def time_decay_attribution(df):\n",
        "    discount_factor = 0.5 # As the touch points get further away, the credit will reduce. \n",
        "    # count the number of events for each campaign in df\n",
        "    \n",
        "    def count_by_campaign(df):                         \n",
        "        counters = np.zeros(n_campaigns)\n",
        "        for campaign_one_hot in df['campaigns'].values:\n",
        "            campaign_id = np.argmax(campaign_one_hot)\n",
        "            counters[campaign_id] = counters[campaign_id] + 1\n",
        "        return counters\n",
        "    \n",
        "    def discount_by_campaign(df):                         \n",
        "        counters = np.zeros(n_campaigns)\n",
        "        for campaign_one_hot in df['campaigns'].values:\n",
        "            campaign_id = np.argmax(campaign_one_hot)\n",
        "            for i in range(campaign_id + 1):\n",
        "                \"\"\"\n",
        "                Multiplying 1 with the discount factor to the power of\n",
        "                campaign id - current campaign number. This way, the \n",
        "                earlier campaign are assigned a lower value, while the \n",
        "                later campaigns are assigned a higher value. The latest\n",
        "                campaign gets multiplied with 0.5 to the power of 0, \n",
        "                therefore 1 gets attached to it. \n",
        "                \"\"\"\n",
        "                counters[i] +=  1*((discount_factor)**(campaign_id-i))\n",
        "        return counters\n",
        "                \n",
        "                \n",
        "                \n",
        "    # count the number of impressions for each campaign\n",
        "    campaign_impressions = count_by_campaign(df)       \n",
        "    \n",
        "    # count the number of times the campaign is the last touch before the conversion\n",
        "    dfc = df[df['conversion'] == 1]\n",
        "    \n",
        "    idx = dfc.groupby(['jid'])['timestamp_norm'].transform(min) == dfc['timestamp_norm']\n",
        "    campaign_conversions = discount_by_campaign(dfc[idx])\n",
        "        \n",
        "    return campaign_conversions / campaign_impressions\n",
        "\n",
        "tda = time_decay_attribution(df6)\n",
        "roi_tda = ((tda[1:50] - (df6.cost.values[1:50]+ df6.cpo.values[1:50]))/(df6.cost.values[1:50]+ df6.cpo.values[1:50]))*100 "
      ],
      "execution_count": 0,
      "outputs": []
    },
    {
      "cell_type": "code",
      "metadata": {
        "id": "wOu2qXEhkGJg",
        "colab_type": "code",
        "outputId": "109f7c5e-5b75-4e21-f2ad-ccdde43c5923",
        "colab": {
          "base_uri": "https://localhost:8080/",
          "height": 722
        }
      },
      "source": [
        "# Visualization of the attribution scores\n",
        "\n",
        "campaign_idx = range(1, 50)\n",
        "\n",
        "fig = plt.figure(figsize=(20,7))\n",
        "ax = fig.add_subplot(111)\n",
        "plt.bar( range(len(tda[campaign_idx])), tda[campaign_idx], label='TDA' )\n",
        "plt.xlabel('Campaign ID')\n",
        "plt.ylabel('Return per impression')\n",
        "plt.title('Time Decay Attribution')\n",
        "plt.legend(loc='upper left')\n",
        "plt.show()"
      ],
      "execution_count": 0,
      "outputs": [
        {
          "output_type": "display_data",
          "data": {
            "image/png": "[encoded data removed]",
            "text/plain": [
              "<Figure size 1440x504 with 1 Axes>"
            ]
          },
          "metadata": {
            "tags": []
          }
        }
      ]
    },
    {
      "cell_type": "code",
      "metadata": {
        "id": "c3oTRjm4o2PT",
        "colab_type": "code",
        "outputId": "24b89b3e-7942-4f86-cd29-0f67c92d5edd",
        "colab": {
          "base_uri": "https://localhost:8080/",
          "height": 722
        }
      },
      "source": [
        "# Visualization of the ROI\n",
        "\n",
        "campaign_idx = range(1, 50)\n",
        "\n",
        "fig = plt.figure(figsize=(20,7))\n",
        "ax = fig.add_subplot(111)\n",
        "plt.bar( range(len(tda[campaign_idx])), roi_tda, label='TDA' )\n",
        "plt.xlabel('Campaign ID')\n",
        "plt.ylabel('Return on Investment in %')\n",
        "plt.title('Time Decay Attribution ROI')\n",
        "plt.legend(loc='upper left')\n",
        "plt.show()"
      ],
      "execution_count": 0,
      "outputs": [
        {
          "output_type": "display_data",
          "data": {
            "image/png": "[encoded data removed]",
            "text/plain": [
              "<Figure size 1440x504 with 1 Axes>"
            ]
          },
          "metadata": {
            "tags": []
          }
        }
      ]
    },
    {
      "cell_type": "markdown",
      "metadata": {
        "id": "ahX8iOurq1X3",
        "colab_type": "text"
      },
      "source": [
        "# U-Shaped Attribution"
      ]
    },
    {
      "cell_type": "code",
      "metadata": {
        "id": "Ky-ochWGkGFt",
        "colab_type": "code",
        "colab": {}
      },
      "source": [
        "def U_shape_attribution(df):\n",
        "    # count the number of events for each campaign in df\n",
        "    def count_by_campaign(df):                         \n",
        "        counters = np.zeros(n_campaigns)\n",
        "        for campaign_one_hot in df['campaigns'].values:\n",
        "            campaign_id = np.argmax(campaign_one_hot)\n",
        "            counters[campaign_id] = counters[campaign_id] + 1\n",
        "        return counters\n",
        "    \n",
        "    def ushape_campaign(df):                         \n",
        "        counters = np.zeros(n_campaigns)\n",
        "        for campaign_one_hot in df['campaigns'].values:\n",
        "            campaign_id = np.argmax(campaign_one_hot)\n",
        "            counters[campaign_id] = counters[campaign_id] + 0.5 # Adding 5 to max. \n",
        "            for i in range(campaign_id):\n",
        "                if i == 0: \n",
        "                    counters[i] += 0.5 # Adding 5 to min.\n",
        "                else:\n",
        "                  counters[i] += 0.2\n",
        "        return counters \n",
        "                \n",
        "    # count the number of impressions for each campaign\n",
        "    campaign_impressions = count_by_campaign(df)       \n",
        "    \n",
        "    # count the number of times the campaign is the last touch before the conversion\n",
        "    dfc = df[df['conversion'] == 1]\n",
        "    \n",
        "    idx = dfc.groupby(['jid'])['timestamp_norm'].transform(sorted) == dfc['timestamp_norm']\n",
        "    campaign_conversions = ushape_campaign(dfc[idx])\n",
        "        \n",
        "    return campaign_conversions / campaign_impressions\n",
        "\n",
        "usa = U_shape_attribution(df6)\n",
        "roi_usa =  ((usa[1:50] - (df6.cost.values[1:50]+ df6.cpo.values[1:50]))/(df6.cost.values[1:50]+ df6.cpo.values[1:50]))*100 "
      ],
      "execution_count": 0,
      "outputs": []
    },
    {
      "cell_type": "code",
      "metadata": {
        "id": "AJ0RQmqJCpjk",
        "colab_type": "code",
        "outputId": "d9b2c29c-5584-4eaa-9ee3-dc400253487d",
        "colab": {
          "base_uri": "https://localhost:8080/",
          "height": 1000
        }
      },
      "source": [
        "pd.DataFrame(roi_usa)[0]"
      ],
      "execution_count": 0,
      "outputs": [
        {
          "output_type": "execute_result",
          "data": {
            "text/plain": [
              "0     4.000968e+04\n",
              "1     1.357249e+04\n",
              "2     4.929873e+03\n",
              "3     1.260900e+03\n",
              "4     3.869484e+04\n",
              "5     1.283025e+03\n",
              "6     8.658174e+03\n",
              "7     1.238156e+04\n",
              "8     4.083476e+04\n",
              "9     2.426853e+03\n",
              "10    4.205073e+03\n",
              "11    2.580335e+04\n",
              "12    1.004609e+03\n",
              "13    7.816753e+02\n",
              "14    5.519751e+03\n",
              "15    1.241245e+05\n",
              "16    3.595376e+04\n",
              "17    3.581497e+03\n",
              "18    5.654923e+06\n",
              "19    2.762375e+03\n",
              "20    1.654580e+03\n",
              "21    3.440227e+04\n",
              "22    8.536410e+04\n",
              "23    2.837618e+03\n",
              "24    1.217616e+04\n",
              "25    4.759979e+04\n",
              "26    3.882086e+03\n",
              "27    7.792775e+03\n",
              "28    1.201411e+03\n",
              "29    6.381439e+03\n",
              "30    6.315879e+04\n",
              "31    1.347031e+04\n",
              "32    5.070115e+03\n",
              "33    1.986109e+04\n",
              "34    3.466738e+04\n",
              "35    2.064450e+04\n",
              "36    3.340752e+03\n",
              "37    8.331553e+04\n",
              "38    1.359031e+05\n",
              "39    1.878907e+04\n",
              "40    1.456650e+04\n",
              "41    1.112546e+03\n",
              "42    5.144924e+04\n",
              "43    2.825863e+03\n",
              "44    1.585321e+05\n",
              "45    7.557339e+03\n",
              "46    5.936878e+04\n",
              "47    1.657439e+04\n",
              "48    1.106041e+04\n",
              "Name: 0, dtype: float64"
            ]
          },
          "metadata": {
            "tags": []
          },
          "execution_count": 41
        }
      ]
    },
    {
      "cell_type": "code",
      "metadata": {
        "id": "cPmKi6dDANlV",
        "colab_type": "code",
        "outputId": "2e3983e7-e01c-4e0b-b6dc-28779c5cc2d2",
        "colab": {
          "base_uri": "https://localhost:8080/",
          "height": 280
        }
      },
      "source": [
        "df_models = pd.read_csv('/content/All_Models.csv')\n",
        "df_models['2'].head()"
      ],
      "execution_count": 0,
      "outputs": [
        {
          "output_type": "execute_result",
          "data": {
            "text/plain": [
              "0    1278.368136\n",
              "1      19.202460\n",
              "2     110.748708\n",
              "3    1005.483216\n",
              "4      61.308556\n",
              "Name: 2, dtype: float64"
            ]
          },
          "metadata": {
            "tags": []
          },
          "execution_count": 92
        }
      ]
    },
    {
      "cell_type": "code",
      "metadata": {
        "id": "sUp-4UaTCNHP",
        "colab_type": "code",
        "outputId": "ba278a50-a0bc-4a25-86b1-4bb5eb17d35c",
        "colab": {
          "base_uri": "https://localhost:8080/",
          "height": 1000
        }
      },
      "source": [
        "df_models[df_models['Model']=='Time Decay Attribution'].loc[:,'2']="
      ],
      "execution_count": 0,
      "outputs": [
        {
          "output_type": "execute_result",
          "data": {
            "text/plain": [
              "49     1278.368136\n",
              "50       19.202460\n",
              "51      110.748708\n",
              "52     1005.483216\n",
              "53       61.308556\n",
              "54      303.427972\n",
              "55      250.993901\n",
              "56     4876.349118\n",
              "57       22.357273\n",
              "58      635.273936\n",
              "59      -17.617153\n",
              "60      144.420449\n",
              "61      106.334801\n",
              "62      -19.387312\n",
              "63      122.326588\n",
              "64     4513.506820\n",
              "65     1982.367766\n",
              "66       14.960728\n",
              "67    46273.584984\n",
              "68       -2.104595\n",
              "69       68.254536\n",
              "70      377.993170\n",
              "71     7637.816390\n",
              "72      -55.046050\n",
              "73       21.161047\n",
              "74     1006.158026\n",
              "75      740.892370\n",
              "76      -43.094016\n",
              "77      -65.478935\n",
              "78      104.496104\n",
              "79       15.145799\n",
              "80      333.904285\n",
              "81     1004.054787\n",
              "82        7.408227\n",
              "83     8930.904232\n",
              "84       59.648752\n",
              "85      283.072421\n",
              "86     8589.685673\n",
              "87      986.003987\n",
              "88      513.618170\n",
              "89     3396.701757\n",
              "90       -5.809735\n",
              "91     3612.234168\n",
              "92      129.139631\n",
              "93      208.028688\n",
              "94      288.657870\n",
              "95     1260.151615\n",
              "96       84.648723\n",
              "97       53.446495\n",
              "Name: 2, dtype: float64"
            ]
          },
          "metadata": {
            "tags": []
          },
          "execution_count": 74
        }
      ]
    },
    {
      "cell_type": "code",
      "metadata": {
        "id": "of0U85XbCvV_",
        "colab_type": "code",
        "colab": {}
      },
      "source": [
        "df_models[df_models['Model']=='U Shaped Attribution']['2']"
      ],
      "execution_count": 0,
      "outputs": []
    },
    {
      "cell_type": "code",
      "metadata": {
        "id": "WPLwGuKVC6Ug",
        "colab_type": "code",
        "outputId": "60d4cce8-4d96-48a6-f496-b89b73396a07",
        "colab": {
          "base_uri": "https://localhost:8080/",
          "height": 986
        }
      },
      "source": [
        "df_models[df_models['Model']=='U Shaped Attribution']['2']"
      ],
      "execution_count": 0,
      "outputs": [
        {
          "output_type": "execute_result",
          "data": {
            "text/plain": [
              "0      1278.368136\n",
              "1        19.202460\n",
              "2       110.748708\n",
              "3      1005.483216\n",
              "4        61.308556\n",
              "5       303.427972\n",
              "6       250.993901\n",
              "7      4876.349118\n",
              "8        22.357273\n",
              "9       635.273936\n",
              "10      -17.617153\n",
              "11      144.420449\n",
              "12      106.334801\n",
              "13      -19.387312\n",
              "14      122.326588\n",
              "15     4513.506820\n",
              "16     1982.367766\n",
              "17       14.960728\n",
              "18    46273.584984\n",
              "19       -2.104595\n",
              "20       68.254536\n",
              "21      377.993170\n",
              "22     7637.816390\n",
              "23      -55.046050\n",
              "24       21.161047\n",
              "25     1006.158026\n",
              "26      740.892370\n",
              "27      -43.094016\n",
              "28      -65.478935\n",
              "29      104.496104\n",
              "30       15.145799\n",
              "31      333.904285\n",
              "32     1004.054787\n",
              "33        7.408227\n",
              "34     8930.904232\n",
              "35       59.648752\n",
              "36      283.072421\n",
              "37     8589.685673\n",
              "38      986.003987\n",
              "39      513.618170\n",
              "40     3396.701757\n",
              "41       -5.809735\n",
              "42     3612.234168\n",
              "43      129.139631\n",
              "44      208.028688\n",
              "45      288.657870\n",
              "46     1260.151615\n",
              "47       84.648723\n",
              "48       53.446495\n",
              "Name: 2, dtype: float64"
            ]
          },
          "metadata": {
            "tags": []
          },
          "execution_count": 97
        }
      ]
    },
    {
      "cell_type": "code",
      "metadata": {
        "id": "ymfDo18TF3wA",
        "colab_type": "code",
        "outputId": "de3e0852-adc7-4000-8771-93bf01c90447",
        "colab": {
          "base_uri": "https://localhost:8080/",
          "height": 986
        }
      },
      "source": [
        "df_models[df_models['Model']=='Time Decay Attribution']['2']"
      ],
      "execution_count": 0,
      "outputs": [
        {
          "output_type": "execute_result",
          "data": {
            "text/plain": [
              "49     1278.368136\n",
              "50       19.202460\n",
              "51      110.748708\n",
              "52     1005.483216\n",
              "53       61.308556\n",
              "54      303.427972\n",
              "55      250.993901\n",
              "56     4876.349118\n",
              "57       22.357273\n",
              "58      635.273936\n",
              "59      -17.617153\n",
              "60      144.420449\n",
              "61      106.334801\n",
              "62      -19.387312\n",
              "63      122.326588\n",
              "64     4513.506820\n",
              "65     1982.367766\n",
              "66       14.960728\n",
              "67    46273.584984\n",
              "68       -2.104595\n",
              "69       68.254536\n",
              "70      377.993170\n",
              "71     7637.816390\n",
              "72      -55.046050\n",
              "73       21.161047\n",
              "74     1006.158026\n",
              "75      740.892370\n",
              "76      -43.094016\n",
              "77      -65.478935\n",
              "78      104.496104\n",
              "79       15.145799\n",
              "80      333.904285\n",
              "81     1004.054787\n",
              "82        7.408227\n",
              "83     8930.904232\n",
              "84       59.648752\n",
              "85      283.072421\n",
              "86     8589.685673\n",
              "87      986.003987\n",
              "88      513.618170\n",
              "89     3396.701757\n",
              "90       -5.809735\n",
              "91     3612.234168\n",
              "92      129.139631\n",
              "93      208.028688\n",
              "94      288.657870\n",
              "95     1260.151615\n",
              "96       84.648723\n",
              "97       53.446495\n",
              "Name: 2, dtype: float64"
            ]
          },
          "metadata": {
            "tags": []
          },
          "execution_count": 27
        }
      ]
    },
    {
      "cell_type": "code",
      "metadata": {
        "id": "XDnHPVDEHID2",
        "colab_type": "code",
        "outputId": "366947bc-eccf-4c39-bff9-bd2e4477c8dc",
        "colab": {
          "base_uri": "https://localhost:8080/",
          "height": 393
        }
      },
      "source": [
        "roi_usa"
      ],
      "execution_count": 0,
      "outputs": [
        {
          "output_type": "execute_result",
          "data": {
            "text/plain": [
              "array([4.00096795e+04, 1.35724912e+04, 4.92987264e+03, 1.26090049e+03,\n",
              "       3.86948362e+04, 1.28302477e+03, 8.65817414e+03, 1.23815603e+04,\n",
              "       4.08347577e+04, 2.42685256e+03, 4.20507334e+03, 2.58033545e+04,\n",
              "       1.00460876e+03, 7.81675257e+02, 5.51975054e+03, 1.24124489e+05,\n",
              "       3.59537604e+04, 3.58149750e+03, 5.65492294e+06, 2.76237505e+03,\n",
              "       1.65458008e+03, 3.44022671e+04, 8.53640984e+04, 2.83761845e+03,\n",
              "       1.21761562e+04, 4.75997925e+04, 3.88208598e+03, 7.79277527e+03,\n",
              "       1.20141075e+03, 6.38143939e+03, 6.31587890e+04, 1.34703054e+04,\n",
              "       5.07011521e+03, 1.98610925e+04, 3.46673752e+04, 2.06445030e+04,\n",
              "       3.34075210e+03, 8.33155321e+04, 1.35903136e+05, 1.87890740e+04,\n",
              "       1.45665030e+04, 1.11254559e+03, 5.14492387e+04, 2.82586308e+03,\n",
              "       1.58532132e+05, 7.55733933e+03, 5.93687787e+04, 1.65743916e+04,\n",
              "       1.10604102e+04])"
            ]
          },
          "metadata": {
            "tags": []
          },
          "execution_count": 37
        }
      ]
    },
    {
      "cell_type": "code",
      "metadata": {
        "id": "p3ddfc5_JcfV",
        "colab_type": "code",
        "colab": {}
      },
      "source": [
        " roi_df = pd.DataFrame(roi_usa)"
      ],
      "execution_count": 0,
      "outputs": []
    },
    {
      "cell_type": "code",
      "metadata": {
        "id": "jqagYXnWJ5HS",
        "colab_type": "code",
        "outputId": "8d502a2b-3e78-4dfa-adc6-456b4982a2d9",
        "colab": {
          "base_uri": "https://localhost:8080/",
          "height": 194
        }
      },
      "source": [
        "double(roi_df.loc[0,0])"
      ],
      "execution_count": 0,
      "outputs": [
        {
          "output_type": "execute_result",
          "data": {
            "text/plain": [
              "40009.67954694268"
            ]
          },
          "metadata": {
            "tags": []
          },
          "execution_count": 85
        }
      ]
    },
    {
      "cell_type": "code",
      "metadata": {
        "id": "XzeG_r_CSPQ2",
        "colab_type": "code",
        "outputId": "deb33983-24c2-4542-9e15-0c7a68e714f8",
        "colab": {
          "base_uri": "https://localhost:8080/",
          "height": 227
        }
      },
      "source": [
        "df_models['Model'].unique()"
      ],
      "execution_count": 0,
      "outputs": [
        {
          "output_type": "execute_result",
          "data": {
            "text/plain": [
              "array(['U Shaped Attribution', 'Time Decay Attribution',\n",
              "       'Last Touch Attribution', 'First Touch Attribution',\n",
              "       'Linear Attribution'], dtype=object)"
            ]
          },
          "metadata": {
            "tags": []
          },
          "execution_count": 95
        }
      ]
    },
    {
      "cell_type": "code",
      "metadata": {
        "id": "Ze9ai88NRJFd",
        "colab_type": "code",
        "colab": {}
      },
      "source": [
        "df_models.to_csv(r'All_Models_Update.csv', index = False)"
      ],
      "execution_count": 0,
      "outputs": []
    },
    {
      "cell_type": "code",
      "metadata": {
        "id": "p2Cm3SXKS3LT",
        "colab_type": "code",
        "outputId": "0ad57717-0cbc-4782-9745-413362a5503e",
        "colab": {
          "base_uri": "https://localhost:8080/",
          "height": 986
        }
      },
      "source": [
        "df_models[df_models['Model']=='Time Decay Attribution']['2']"
      ],
      "execution_count": 0,
      "outputs": [
        {
          "output_type": "execute_result",
          "data": {
            "text/plain": [
              "49     1278.368136\n",
              "50       19.202460\n",
              "51      110.748708\n",
              "52     1005.483216\n",
              "53       61.308556\n",
              "54      303.427972\n",
              "55      250.993901\n",
              "56     4876.349118\n",
              "57       22.357273\n",
              "58      635.273936\n",
              "59      -17.617153\n",
              "60      144.420449\n",
              "61      106.334801\n",
              "62      -19.387312\n",
              "63      122.326588\n",
              "64     4513.506820\n",
              "65     1982.367766\n",
              "66       14.960728\n",
              "67    46273.584984\n",
              "68       -2.104595\n",
              "69       68.254536\n",
              "70      377.993170\n",
              "71     7637.816390\n",
              "72      -55.046050\n",
              "73       21.161047\n",
              "74     1006.158026\n",
              "75      740.892370\n",
              "76      -43.094016\n",
              "77      -65.478935\n",
              "78      104.496104\n",
              "79       15.145799\n",
              "80      333.904285\n",
              "81     1004.054787\n",
              "82        7.408227\n",
              "83     8930.904232\n",
              "84       59.648752\n",
              "85      283.072421\n",
              "86     8589.685673\n",
              "87      986.003987\n",
              "88      513.618170\n",
              "89     3396.701757\n",
              "90       -5.809735\n",
              "91     3612.234168\n",
              "92      129.139631\n",
              "93      208.028688\n",
              "94      288.657870\n",
              "95     1260.151615\n",
              "96       84.648723\n",
              "97       53.446495\n",
              "Name: 2, dtype: float64"
            ]
          },
          "metadata": {
            "tags": []
          },
          "execution_count": 101
        }
      ]
    },
    {
      "cell_type": "code",
      "metadata": {
        "id": "1rEqqbjWSwxr",
        "colab_type": "code",
        "outputId": "c5486b3c-6a86-434c-b0a2-8ab719b6ec9d",
        "colab": {
          "base_uri": "https://localhost:8080/",
          "height": 986
        }
      },
      "source": [
        "df_models[df_models['Model']=='U Shaped Attribution']['2']"
      ],
      "execution_count": 0,
      "outputs": [
        {
          "output_type": "execute_result",
          "data": {
            "text/plain": [
              "0     4.000968e+04\n",
              "1     1.357249e+04\n",
              "2     4.929873e+03\n",
              "3     1.260900e+03\n",
              "4     3.869484e+04\n",
              "5     1.283025e+03\n",
              "6     8.658174e+03\n",
              "7     1.238156e+04\n",
              "8     4.083476e+04\n",
              "9     2.426853e+03\n",
              "10    4.205073e+03\n",
              "11    2.580335e+04\n",
              "12    1.004609e+03\n",
              "13    7.816753e+02\n",
              "14    5.519751e+03\n",
              "15    1.241245e+05\n",
              "16    3.595376e+04\n",
              "17    3.581497e+03\n",
              "18    5.654923e+06\n",
              "19    2.762375e+03\n",
              "20    1.654580e+03\n",
              "21    3.440227e+04\n",
              "22    8.536410e+04\n",
              "23    2.837618e+03\n",
              "24    1.217616e+04\n",
              "25    4.759979e+04\n",
              "26    3.882086e+03\n",
              "27    7.792775e+03\n",
              "28    1.201411e+03\n",
              "29    6.381439e+03\n",
              "30    6.315879e+04\n",
              "31    1.347031e+04\n",
              "32    5.070115e+03\n",
              "33    1.986109e+04\n",
              "34    3.466738e+04\n",
              "35    2.064450e+04\n",
              "36    3.340752e+03\n",
              "37    8.331553e+04\n",
              "38    1.359031e+05\n",
              "39    1.878907e+04\n",
              "40    1.456650e+04\n",
              "41    1.112546e+03\n",
              "42    5.144924e+04\n",
              "43    2.825863e+03\n",
              "44    1.585321e+05\n",
              "45    7.557339e+03\n",
              "46    5.936878e+04\n",
              "47    1.657439e+04\n",
              "48    1.106041e+04\n",
              "Name: 2, dtype: float64"
            ]
          },
          "metadata": {
            "tags": []
          },
          "execution_count": 100
        }
      ]
    },
    {
      "cell_type": "code",
      "metadata": {
        "id": "pSFZpBkIKq5d",
        "colab_type": "code",
        "outputId": "12084b44-8c35-46d8-dce1-a233dfb36e67",
        "colab": {
          "base_uri": "https://localhost:8080/",
          "height": 320
        }
      },
      "source": [
        "for i in range(49):\n",
        "  df_models[df_models['Model']=='U Shaped Attribution'].loc[i, '2'] = double(roi_df.loc[i,0])\n",
        "\n",
        "#df_models[df_models['Model']=='U Shaped Attribution'].loc[1, '2']"
      ],
      "execution_count": 0,
      "outputs": [
        {
          "output_type": "stream",
          "text": [
            "/usr/local/lib/python3.6/dist-packages/pandas/core/indexing.py:494: SettingWithCopyWarning: \n",
            "A value is trying to be set on a copy of a slice from a DataFrame.\n",
            "Try using .loc[row_indexer,col_indexer] = value instead\n",
            "\n",
            "See the caveats in the documentation: http://pandas.pydata.org/pandas-docs/stable/user_guide/indexing.html#returning-a-view-versus-a-copy\n",
            "  self.obj[item] = s\n"
          ],
          "name": "stderr"
        }
      ]
    },
    {
      "cell_type": "code",
      "metadata": {
        "id": "tudQbZDFAjba",
        "colab_type": "code",
        "outputId": "0ab35af1-cc0f-41aa-a2fc-d6c488e8d5db",
        "colab": {
          "base_uri": "https://localhost:8080/",
          "height": 320
        }
      },
      "source": [
        "df_models[df_models['Model']=='U Shaped Attribution']['2']=roi_df.loc[0:48]"
      ],
      "execution_count": 0,
      "outputs": [
        {
          "output_type": "stream",
          "text": [
            "/usr/local/lib/python3.6/dist-packages/ipykernel_launcher.py:1: SettingWithCopyWarning: \n",
            "A value is trying to be set on a copy of a slice from a DataFrame.\n",
            "Try using .loc[row_indexer,col_indexer] = value instead\n",
            "\n",
            "See the caveats in the documentation: http://pandas.pydata.org/pandas-docs/stable/user_guide/indexing.html#returning-a-view-versus-a-copy\n",
            "  \"\"\"Entry point for launching an IPython kernel.\n"
          ],
          "name": "stderr"
        }
      ]
    },
    {
      "cell_type": "code",
      "metadata": {
        "id": "JYxxXFDCrhCI",
        "colab_type": "code",
        "outputId": "a954c5f7-9333-49ab-8d7d-97c98c970720",
        "colab": {
          "base_uri": "https://localhost:8080/",
          "height": 702
        }
      },
      "source": [
        "# Visualization of the attribution scores\n",
        "\n",
        "campaign_idx = range(1, 50)\n",
        "\n",
        "fig = plt.figure(figsize=(20,7))\n",
        "ax = fig.add_subplot(111)\n",
        "plt.bar( range(len(usa[campaign_idx])), usa[campaign_idx], label='USA' )\n",
        "plt.xlabel('Campaign ID')\n",
        "plt.ylabel('Return per impression')\n",
        "plt.title('U Shaped Attribution')\n",
        "plt.legend(loc='upper left')\n",
        "plt.show()"
      ],
      "execution_count": 0,
      "outputs": [
        {
          "output_type": "display_data",
          "data": {
            "image/png": "[encoded data removed]",
            "text/plain": [
              "<Figure size 1440x504 with 1 Axes>"
            ]
          },
          "metadata": {
            "tags": []
          }
        }
      ]
    },
    {
      "cell_type": "code",
      "metadata": {
        "id": "oIUNigjapkaD",
        "colab_type": "code",
        "outputId": "05d4fe6e-a0eb-4f07-95f2-713f950e977b",
        "colab": {
          "base_uri": "https://localhost:8080/",
          "height": 462
        }
      },
      "source": [
        "# Visualization of the ROI\n",
        "\n",
        "campaign_idx = range(1, 50)\n",
        "\n",
        "fig = plt.figure(figsize=(20,7))\n",
        "ax = fig.add_subplot(111)\n",
        "plt.bar( range(len(usa[campaign_idx])), roi_usa, label='USA' )\n",
        "plt.xlabel('Campaign ID')\n",
        "plt.ylabel('Return on Investment in %')\n",
        "plt.title('U-Shaped Attribution ROI')\n",
        "plt.legend(loc='upper left')\n",
        "plt.show()"
      ],
      "execution_count": 0,
      "outputs": [
        {
          "output_type": "display_data",
          "data": {
            "image/png": "[encoded data removed]",
            "text/plain": [
              "<Figure size 1440x504 with 1 Axes>"
            ]
          },
          "metadata": {
            "tags": []
          }
        }
      ]
    },
    {
      "cell_type": "code",
      "metadata": {
        "id": "L-kBuVBtsXMF",
        "colab_type": "code",
        "outputId": "e65a6b0c-dffa-44fc-b97e-35d73afa7dfd",
        "colab": {
          "base_uri": "https://localhost:8080/",
          "height": 901
        }
      },
      "source": [
        "# How to run a Dash app in Google Colab\n",
        "\n",
        "### Install ngrok\n",
        "!wget https://bin.equinox.io/c/4VmDzA7iaHb/ngrok-stable-linux-amd64.zip\n",
        "!unzip ngrok-stable-linux-amd64.zip\n",
        "\n",
        "### Install Dash\n",
        "#!pip install dash==0.31.1  # The core dash backend\n",
        "#!pip install dash-html-components==0.13.2  # HTML components\n",
        "#!pip install dash-core-components==0.39.0  # Supercharged components\n",
        "#!pip install dash-table==3.1.7  # Interactive DataTable component (new!)\n",
        "!pip install dash  # The core dash backend\n",
        "!pip install dash-html-components  # HTML components\n",
        "!pip install dash-core-components  # Supercharged components\n",
        "!pip install dash-table  # Interactive DataTable component (new!)"
      ],
      "execution_count": 0,
      "outputs": [
        {
          "output_type": "stream",
          "text": [
            "--2020-03-14 00:34:06--  https://bin.equinox.io/c/4VmDzA7iaHb/ngrok-stable-linux-amd64.zip\n",
            "Resolving bin.equinox.io (bin.equinox.io)... 34.197.77.37, 34.192.78.186, 34.227.168.133, ...\n",
            "Connecting to bin.equinox.io (bin.equinox.io)|34.197.77.37|:443... connected.\n",
            "HTTP request sent, awaiting response... 200 OK\n",
            "Length: 13773305 (13M) [application/octet-stream]\n",
            "Saving to: ‘ngrok-stable-linux-amd64.zip.1’\n",
            "\n",
            "ngrok-stable-linux- 100%[===================>]  13.13M  6.47MB/s    in 2.0s    \n",
            "\n",
            "2020-03-14 00:34:09 (6.47 MB/s) - ‘ngrok-stable-linux-amd64.zip.1’ saved [13773305/13773305]\n",
            "\n",
            "Archive:  ngrok-stable-linux-amd64.zip\n",
            "replace ngrok? [y]es, [n]o, [A]ll, [N]one, [r]ename: y\n",
            "  inflating: ngrok                   \n",
            "Requirement already satisfied: dash in /usr/local/lib/python3.6/dist-packages (1.4.1)\n",
            "Requirement already satisfied: dash-table==4.4.1 in /usr/local/lib/python3.6/dist-packages (from dash) (4.4.1)\n",
            "Requirement already satisfied: dash-renderer==1.1.2 in /usr/local/lib/python3.6/dist-packages (from dash) (1.1.2)\n",
            "Requirement already satisfied: plotly in /usr/local/lib/python3.6/dist-packages (from dash) (4.4.1)\n",
            "Requirement already satisfied: dash-html-components==1.0.1 in /usr/local/lib/python3.6/dist-packages (from dash) (1.0.1)\n",
            "Requirement already satisfied: future in /usr/local/lib/python3.6/dist-packages (from dash) (0.16.0)\n",
            "Requirement already satisfied: Flask>=1.0.2 in /usr/local/lib/python3.6/dist-packages (from dash) (1.1.1)\n",
            "Requirement already satisfied: dash-core-components==1.3.1 in /usr/local/lib/python3.6/dist-packages (from dash) (1.3.1)\n",
            "Requirement already satisfied: flask-compress in /usr/local/lib/python3.6/dist-packages (from dash) (1.4.0)\n",
            "Requirement already satisfied: retrying>=1.3.3 in /usr/local/lib/python3.6/dist-packages (from plotly->dash) (1.3.3)\n",
            "Requirement already satisfied: six in /usr/local/lib/python3.6/dist-packages (from plotly->dash) (1.12.0)\n",
            "Requirement already satisfied: click>=5.1 in /usr/local/lib/python3.6/dist-packages (from Flask>=1.0.2->dash) (7.0)\n",
            "Requirement already satisfied: Werkzeug>=0.15 in /usr/local/lib/python3.6/dist-packages (from Flask>=1.0.2->dash) (1.0.0)\n",
            "Requirement already satisfied: itsdangerous>=0.24 in /usr/local/lib/python3.6/dist-packages (from Flask>=1.0.2->dash) (1.1.0)\n",
            "Requirement already satisfied: Jinja2>=2.10.1 in /usr/local/lib/python3.6/dist-packages (from Flask>=1.0.2->dash) (2.11.1)\n",
            "Requirement already satisfied: MarkupSafe>=0.23 in /usr/local/lib/python3.6/dist-packages (from Jinja2>=2.10.1->Flask>=1.0.2->dash) (1.1.1)\n",
            "Requirement already satisfied: dash-html-components in /usr/local/lib/python3.6/dist-packages (1.0.1)\n",
            "Requirement already satisfied: dash-core-components in /usr/local/lib/python3.6/dist-packages (1.3.1)\n",
            "Requirement already satisfied: dash-table in /usr/local/lib/python3.6/dist-packages (4.4.1)\n"
          ],
          "name": "stdout"
        }
      ]
    },
    {
      "cell_type": "code",
      "metadata": {
        "id": "zl7XekoB6Yv7",
        "colab_type": "code",
        "outputId": "6a3f8a93-4e80-4422-8753-ba361dcd5dcb",
        "colab": {
          "base_uri": "https://localhost:8080/",
          "height": 1000
        }
      },
      "source": [
        "!pip install dash==1.4.1  # The core dash backend\n",
        "!pip install dash-daq==0.2.1"
      ],
      "execution_count": 0,
      "outputs": [
        {
          "output_type": "stream",
          "text": [
            "Collecting dash==1.4.1\n",
            "\u001b[?25l  Downloading https://files.pythonhosted.org/packages/1f/b3/7a33f4649d546d3df013eacf44233fbf774ef382e7f8e54fe52d1ff14303/dash-1.4.1.tar.gz (59kB)\n",
            "\u001b[K     |████████████████████████████████| 61kB 2.0MB/s \n",
            "\u001b[?25hRequirement already satisfied: Flask>=1.0.2 in /usr/local/lib/python3.6/dist-packages (from dash==1.4.1) (1.1.1)\n",
            "Requirement already satisfied: flask-compress in /usr/local/lib/python3.6/dist-packages (from dash==1.4.1) (1.4.0)\n",
            "Requirement already satisfied: plotly in /usr/local/lib/python3.6/dist-packages (from dash==1.4.1) (4.4.1)\n",
            "Collecting dash_renderer==1.1.2\n",
            "\u001b[?25l  Downloading https://files.pythonhosted.org/packages/e3/8c/5c3da326bc8249a345ff4f737a7ec2eb32b74f61397ffba639fa3c02549b/dash_renderer-1.1.2.tar.gz (1.2MB)\n",
            "\u001b[K     |████████████████████████████████| 1.2MB 8.2MB/s \n",
            "\u001b[?25hCollecting dash-core-components==1.3.1\n",
            "\u001b[?25l  Downloading https://files.pythonhosted.org/packages/43/f3/3b02ed75036fc63caf4c3047fca31a0acedf9788c69c94a1990b42c97a3b/dash_core_components-1.3.1.tar.gz (2.1MB)\n",
            "\u001b[K     |████████████████████████████████| 2.1MB 42.7MB/s \n",
            "\u001b[?25hCollecting dash-html-components==1.0.1\n",
            "\u001b[?25l  Downloading https://files.pythonhosted.org/packages/0d/e8/e6f68c0a3c146d15bebe8d3570ebe535abdbba90b87e548bdf3363ecddbe/dash_html_components-1.0.1.tar.gz (187kB)\n",
            "\u001b[K     |████████████████████████████████| 194kB 60.7MB/s \n",
            "\u001b[?25hCollecting dash-table==4.4.1\n",
            "\u001b[?25l  Downloading https://files.pythonhosted.org/packages/7f/da/ff797fe21276d0b9cdd215486bb242fd937338e2104e466c17b8e1918c6f/dash_table-4.4.1.tar.gz (1.8MB)\n",
            "\u001b[K     |████████████████████████████████| 1.8MB 26.7MB/s \n",
            "\u001b[?25hRequirement already satisfied: future in /usr/local/lib/python3.6/dist-packages (from dash==1.4.1) (0.16.0)\n",
            "Requirement already satisfied: itsdangerous>=0.24 in /usr/local/lib/python3.6/dist-packages (from Flask>=1.0.2->dash==1.4.1) (1.1.0)\n",
            "Requirement already satisfied: Werkzeug>=0.15 in /usr/local/lib/python3.6/dist-packages (from Flask>=1.0.2->dash==1.4.1) (1.0.0)\n",
            "Requirement already satisfied: Jinja2>=2.10.1 in /usr/local/lib/python3.6/dist-packages (from Flask>=1.0.2->dash==1.4.1) (2.11.1)\n",
            "Requirement already satisfied: click>=5.1 in /usr/local/lib/python3.6/dist-packages (from Flask>=1.0.2->dash==1.4.1) (7.0)\n",
            "Requirement already satisfied: retrying>=1.3.3 in /usr/local/lib/python3.6/dist-packages (from plotly->dash==1.4.1) (1.3.3)\n",
            "Requirement already satisfied: six in /usr/local/lib/python3.6/dist-packages (from plotly->dash==1.4.1) (1.12.0)\n",
            "Requirement already satisfied: MarkupSafe>=0.23 in /usr/local/lib/python3.6/dist-packages (from Jinja2>=2.10.1->Flask>=1.0.2->dash==1.4.1) (1.1.1)\n",
            "Building wheels for collected packages: dash, dash-renderer, dash-core-components, dash-html-components, dash-table\n",
            "  Building wheel for dash (setup.py) ... \u001b[?25l\u001b[?25hdone\n",
            "  Created wheel for dash: filename=dash-1.4.1-cp36-none-any.whl size=66440 sha256=5361b17157af9672025fffcf6f2b5cd8989f8ad927feef63f95fbd4e6a983d62\n",
            "  Stored in directory: /root/.cache/pip/wheels/41/11/b7/643b47546d61ba55d7f29325c4952c1639edb8798887bad458\n",
            "  Building wheel for dash-renderer (setup.py) ... \u001b[?25l\u001b[?25hdone\n",
            "  Created wheel for dash-renderer: filename=dash_renderer-1.1.2-cp36-none-any.whl size=1166890 sha256=4822a9e9f3ae6d260851c1d7ec89e2cfc14f7a86ee42ec73856e376eb267b845\n",
            "  Stored in directory: /root/.cache/pip/wheels/f6/07/8b/f262dd356b8cb359a5b3f5e4ff9d4ddb85854bd51f824ffa58\n",
            "  Building wheel for dash-core-components (setup.py) ... \u001b[?25l\u001b[?25hdone\n",
            "  Created wheel for dash-core-components: filename=dash_core_components-1.3.1-cp36-none-any.whl size=2116124 sha256=b087c70086022ce4dc100b844993436906098f07efdd11939f57a742aa0ff79f\n",
            "  Stored in directory: /root/.cache/pip/wheels/1c/17/c0/2b0efaea7c795d0b1c29e040683c10e8e2c78919d26ad1c0ae\n",
            "  Building wheel for dash-html-components (setup.py) ... \u001b[?25l\u001b[?25hdone\n",
            "  Created wheel for dash-html-components: filename=dash_html_components-1.0.1-cp36-none-any.whl size=428712 sha256=d3bb69beb8b0bac6bffa93938c071569083e649c900587bd4ece97ab2af83010\n",
            "  Stored in directory: /root/.cache/pip/wheels/54/27/d1/b452e9aa92aa1883543248a23707d448ada5f990d603f2ebf1\n",
            "  Building wheel for dash-table (setup.py) ... \u001b[?25l\u001b[?25hdone\n",
            "  Created wheel for dash-table: filename=dash_table-4.4.1-cp36-none-any.whl size=1809692 sha256=1b1d4b0537a4db520ee387309202d154d99935418cd5ffb775edd31b9773942c\n",
            "  Stored in directory: /root/.cache/pip/wheels/ea/fe/22/bb954af16a3c143e10a76ae239f73b5812c7d77d7b2d6c1af3\n",
            "Successfully built dash dash-renderer dash-core-components dash-html-components dash-table\n",
            "Installing collected packages: dash-renderer, dash-core-components, dash-html-components, dash-table, dash\n",
            "  Found existing installation: dash-renderer 1.2.4\n",
            "    Uninstalling dash-renderer-1.2.4:\n",
            "      Successfully uninstalled dash-renderer-1.2.4\n",
            "  Found existing installation: dash-core-components 1.8.1\n",
            "    Uninstalling dash-core-components-1.8.1:\n",
            "      Successfully uninstalled dash-core-components-1.8.1\n",
            "  Found existing installation: dash-html-components 1.0.2\n",
            "    Uninstalling dash-html-components-1.0.2:\n",
            "      Successfully uninstalled dash-html-components-1.0.2\n",
            "  Found existing installation: dash-table 4.6.1\n",
            "    Uninstalling dash-table-4.6.1:\n",
            "      Successfully uninstalled dash-table-4.6.1\n",
            "  Found existing installation: dash 1.9.1\n",
            "    Uninstalling dash-1.9.1:\n",
            "      Successfully uninstalled dash-1.9.1\n",
            "Successfully installed dash-1.4.1 dash-core-components-1.3.1 dash-html-components-1.0.1 dash-renderer-1.1.2 dash-table-4.4.1\n",
            "Collecting dash-daq==0.2.1\n",
            "\u001b[?25l  Downloading https://files.pythonhosted.org/packages/6e/fc/05d03f64bb66cd5a25f5670dcd847c2140192462c9420a85427654e3804b/dash_daq-0.2.1.tar.gz (796kB)\n",
            "\u001b[K     |████████████████████████████████| 798kB 2.8MB/s \n",
            "\u001b[?25hRequirement already satisfied: dash>=1.0.0 in /usr/local/lib/python3.6/dist-packages (from dash-daq==0.2.1) (1.4.1)\n",
            "Requirement already satisfied: dash-renderer==1.1.2 in /usr/local/lib/python3.6/dist-packages (from dash>=1.0.0->dash-daq==0.2.1) (1.1.2)\n",
            "Requirement already satisfied: plotly in /usr/local/lib/python3.6/dist-packages (from dash>=1.0.0->dash-daq==0.2.1) (4.4.1)\n",
            "Requirement already satisfied: dash-table==4.4.1 in /usr/local/lib/python3.6/dist-packages (from dash>=1.0.0->dash-daq==0.2.1) (4.4.1)\n",
            "Requirement already satisfied: future in /usr/local/lib/python3.6/dist-packages (from dash>=1.0.0->dash-daq==0.2.1) (0.16.0)\n",
            "Requirement already satisfied: flask-compress in /usr/local/lib/python3.6/dist-packages (from dash>=1.0.0->dash-daq==0.2.1) (1.4.0)\n",
            "Requirement already satisfied: dash-core-components==1.3.1 in /usr/local/lib/python3.6/dist-packages (from dash>=1.0.0->dash-daq==0.2.1) (1.3.1)\n",
            "Requirement already satisfied: dash-html-components==1.0.1 in /usr/local/lib/python3.6/dist-packages (from dash>=1.0.0->dash-daq==0.2.1) (1.0.1)\n",
            "Requirement already satisfied: Flask>=1.0.2 in /usr/local/lib/python3.6/dist-packages (from dash>=1.0.0->dash-daq==0.2.1) (1.1.1)\n",
            "Requirement already satisfied: six in /usr/local/lib/python3.6/dist-packages (from plotly->dash>=1.0.0->dash-daq==0.2.1) (1.12.0)\n",
            "Requirement already satisfied: retrying>=1.3.3 in /usr/local/lib/python3.6/dist-packages (from plotly->dash>=1.0.0->dash-daq==0.2.1) (1.3.3)\n",
            "Requirement already satisfied: Jinja2>=2.10.1 in /usr/local/lib/python3.6/dist-packages (from Flask>=1.0.2->dash>=1.0.0->dash-daq==0.2.1) (2.11.1)\n",
            "Requirement already satisfied: Werkzeug>=0.15 in /usr/local/lib/python3.6/dist-packages (from Flask>=1.0.2->dash>=1.0.0->dash-daq==0.2.1) (1.0.0)\n",
            "Requirement already satisfied: itsdangerous>=0.24 in /usr/local/lib/python3.6/dist-packages (from Flask>=1.0.2->dash>=1.0.0->dash-daq==0.2.1) (1.1.0)\n",
            "Requirement already satisfied: click>=5.1 in /usr/local/lib/python3.6/dist-packages (from Flask>=1.0.2->dash>=1.0.0->dash-daq==0.2.1) (7.0)\n",
            "Requirement already satisfied: MarkupSafe>=0.23 in /usr/local/lib/python3.6/dist-packages (from Jinja2>=2.10.1->Flask>=1.0.2->dash>=1.0.0->dash-daq==0.2.1) (1.1.1)\n",
            "Building wheels for collected packages: dash-daq\n",
            "  Building wheel for dash-daq (setup.py) ... \u001b[?25l\u001b[?25hdone\n",
            "  Created wheel for dash-daq: filename=dash_daq-0.2.1-cp36-none-any.whl size=807014 sha256=b43dce5a21dd6f6c7b3c98ff3e9aa89dfa65146f2fba4963aa946d1fd44c30b6\n",
            "  Stored in directory: /root/.cache/pip/wheels/51/ef/c4/70a50462c85d2f6840fb2dbf207204e169ca374f458cec3335\n",
            "Successfully built dash-daq\n",
            "Installing collected packages: dash-daq\n",
            "Successfully installed dash-daq-0.2.1\n"
          ],
          "name": "stdout"
        }
      ]
    },
    {
      "cell_type": "code",
      "metadata": {
        "id": "U4smELYFt56c",
        "colab_type": "code",
        "outputId": "311c9cdc-cb51-4fce-e55c-7fc8f8e4a7b2",
        "colab": {
          "base_uri": "https://localhost:8080/",
          "height": 126
        }
      },
      "source": [
        "get_ipython().system_raw('./ngrok http 8050 &')\n",
        "\n",
        "### Get the public URL where you can access the Dash app. Copy this URL.\n",
        "! curl -s http://localhost:4040/api/tunnels | python3 -c \\\n",
        "    \"import sys, json; print(json.load(sys.stdin)['tunnels'][0]['public_url'])\""
      ],
      "execution_count": 0,
      "outputs": [
        {
          "output_type": "stream",
          "text": [
            "https://6003995b.ngrok.io\n"
          ],
          "name": "stdout"
        }
      ]
    },
    {
      "cell_type": "code",
      "metadata": {
        "id": "zchEaqI_uiM7",
        "colab_type": "code",
        "outputId": "45180e42-ba64-445d-945a-82c07433e8dd",
        "colab": {
          "base_uri": "https://localhost:8080/",
          "height": 214
        }
      },
      "source": [
        "### Run Dash app\n",
        "!python all_model.py"
      ],
      "execution_count": 0,
      "outputs": [
        {
          "output_type": "stream",
          "text": [
            "Running on http://127.0.0.1:8050/\n",
            "Debugger PIN: 357-428-455\n",
            " * Serving Flask app \"all_model\" (lazy loading)\n",
            " * Environment: production\n",
            "\u001b[31m   WARNING: This is a development server. Do not use it in a production deployment.\u001b[0m\n",
            "\u001b[2m   Use a production WSGI server instead.\u001b[0m\n",
            " * Debug mode: on\n",
            "Running on http://127.0.0.1:8050/\n",
            "Debugger PIN: 767-053-631\n"
          ],
          "name": "stdout"
        }
      ]
    }
  ]
}